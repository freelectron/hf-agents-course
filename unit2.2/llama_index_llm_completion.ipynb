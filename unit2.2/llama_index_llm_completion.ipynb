{
 "cells": [
  {
   "cell_type": "code",
   "execution_count": 1,
   "id": "100538ef",
   "metadata": {},
   "outputs": [],
   "source": [
    "from llama_index.core.llms import (\n",
    "    CustomLLM,\n",
    "    CompletionResponse,\n",
    "    CompletionResponseGen,\n",
    "    LLMMetadata\n",
    ")\n",
    "from llama_index.core import Settings"
   ]
  },
  {
   "cell_type": "code",
   "execution_count": 4,
   "id": "267dc788",
   "metadata": {},
   "outputs": [],
   "source": [
    "import grpc\n",
    "import hf_course.llmer.grpc.chats_pb2 as chats_pb2\n",
    "import hf_course.llmer.grpc.chats_pb2_grpc as chats_pb2_grpc "
   ]
  },
  {
   "cell_type": "code",
   "execution_count": null,
   "id": "b3d452ee",
   "metadata": {},
   "outputs": [],
   "source": [
    "class MyCustomLLM(CustomLLM):\n",
    "\n",
    "    def __init__(self):\n",
    "        llmer_address = \"localhost:50051\"\n",
    "        channel = grpc.insecure_channel(llmer_address)  \n",
    "        client = chats_pb2_grpc.LLMChatServiceStub(channel=channel)\n",
    "        session_request = chats_pb2.StartSessionRequest(\n",
    "                mode=\"QuestionAnsweringChatBot\",\n",
    "                user=\"user123\",\n",
    "        )\n",
    "        session_id = client.StartSession(session_request)\n",
    "        session_id = session_id\n",
    "                    \n",
    "    \"\"\"Needs to implement these three\"\"\"\n",
    "    # @property\n",
    "    def metadata(self) -> LLMMetadata:\n",
    "        return LLMMetadata(\n",
    "            context_window=4096,  # where does this field matter\n",
    "            num_output=256,       # where does this field matter\n",
    "            model_name=\"my-test-model\",\n",
    "        )\n",
    "    def complete(self, prompt: str, formatted: bool = False, **kwargs) -> CompletionResponse:\n",
    "        \n",
    "        # FIXME: the base class does not allow me to define fields for some reason, find a way \n",
    "        llmer_address = \"localhost:50051\"\n",
    "        channel = grpc.insecure_channel(llmer_address)  \n",
    "        client = chats_pb2_grpc.LLMChatServiceStub(channel=channel)\n",
    "        session_request = chats_pb2.StartSessionRequest(\n",
    "                mode=\"QuestionAnsweringChatBot\",\n",
    "                user=\"user123\",\n",
    "        )\n",
    "        session_id_response = client.StartSession(session_request)\n",
    "        session_id = session_id_response.id\n",
    "        print(session_id)\n",
    "        message_question = chats_pb2.Question(\n",
    "            session_id=session_id,\n",
    "            system_prompt=\"somethings\",\n",
    "            question_prompt=prompt\n",
    "        )\n",
    "        answer = client.SendMessage(message_question)\n",
    "\n",
    "        return CompletionResponse(text=answer.text)\n",
    "\n",
    "    def stream_complete(self, prompt: str, formatted: bool = False, **kwargs) -> CompletionResponse:\n",
    "        # TODO: lets see if i can get away without streaming\n",
    "        # FIXME: the base class does not allow me to define fields for some reason, find a way \n",
    "        llmer_address = \"localhost:50051\"\n",
    "        channel = grpc.insecure_channel(llmer_address)  \n",
    "        client = chats_pb2_grpc.LLMChatServiceStub(channel=channel)\n",
    "        session_request = chats_pb2.StartSessionRequest(\n",
    "                mode=\"QuestionAnsweringChatBot\",\n",
    "                user=\"user123\",\n",
    "        )\n",
    "        session_id_response = client.StartSession(session_request)\n",
    "        session_id = session_id_response.id\n",
    "        print(session_id)\n",
    "        message_question = chats_pb2.Question(\n",
    "            session_id=session_id,\n",
    "            system_prompt=\"\",\n",
    "            question_prompt=prompt\n",
    "        )\n",
    "        answer = client.SendMessage(message_question)\n",
    "\n",
    "        return CompletionResponse(text=answer.text)\n"
   ]
  },
  {
   "cell_type": "code",
   "execution_count": 44,
   "id": "3843d7d9",
   "metadata": {},
   "outputs": [
    {
     "name": "stdout",
     "output_type": "stream",
     "text": [
      "defaultQuestionAnsweringChatBot\n"
     ]
    },
    {
     "data": {
      "text/plain": [
       "CompletionResponse(text='No worries—height isn’t everything, and you can absolutely boost how tall you seem with the right moves. Here’s how to project a taller presence, both physically and with confidence:\\n🔝 Style Hacks to Look Taller\\nMonochrome Outfits\\nWearing the same color top to bottom (especially dark colors) creates a vertical line that makes you look taller.\\nVertical Lines Are Your Friend\\nStripes or subtle patterns that run vertically elongate your frame.\\nTailored Clothes Only\\nBaggy clothes make you look shorter. Wear clothes that fit close to your body but aren’t too tight.\\nShoes with a Bit of a Heel\\nChelsea boots, dress shoes, or even casual sneakers with thicker soles can easily give you 1–2 inches.\\nAvoid High Contrasts\\nA light shirt and dark pants cut you in half visually. Stick to similar tones to stretch your silhouette.\\n🧍\\u200d♂️ Posture Makes a Huge Difference\\nStand tall: Shoulders back, head up, chest open. Slouching steals inches.\\nStrengthen your core: A strong core supports better posture naturally.\\n🧠 Presence > Inches\\nEven more powerful than looking taller is feeling taller. People pick up on energy. If you walk into a room with confidence, good eye contact, and ease in your skin, nobody’s thinking about your height.\\nWant outfit ideas or posture tips specific to your body type or height? I can help tailor it.', additional_kwargs={}, raw=None, logprobs=None, delta=None)"
      ]
     },
     "execution_count": 44,
     "metadata": {},
     "output_type": "execute_result"
    }
   ],
   "source": [
    "llm_example = MyCustomLLM()\n",
    "\n",
    "llm_example.complete(\"I am not that tall, how can i seeem to me be more tall\")"
   ]
  },
  {
   "cell_type": "code",
   "execution_count": null,
   "id": "45a97641",
   "metadata": {},
   "outputs": [],
   "source": []
  },
  {
   "cell_type": "code",
   "execution_count": null,
   "id": "28ae623c",
   "metadata": {},
   "outputs": [],
   "source": []
  },
  {
   "cell_type": "code",
   "execution_count": null,
   "id": "4fb56b0b",
   "metadata": {},
   "outputs": [],
   "source": []
  },
  {
   "cell_type": "code",
   "execution_count": null,
   "id": "efd2914b",
   "metadata": {},
   "outputs": [],
   "source": []
  }
 ],
 "metadata": {
  "kernelspec": {
   "display_name": "Python 3",
   "language": "python",
   "name": "python3"
  },
  "language_info": {
   "codemirror_mode": {
    "name": "ipython",
    "version": 3
   },
   "file_extension": ".py",
   "mimetype": "text/x-python",
   "name": "python",
   "nbconvert_exporter": "python",
   "pygments_lexer": "ipython3",
   "version": "3.12.10"
  }
 },
 "nbformat": 4,
 "nbformat_minor": 5
}
