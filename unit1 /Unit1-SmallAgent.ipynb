{
 "cells": [
  {
   "cell_type": "code",
   "execution_count": 2,
   "id": "54bb2981",
   "metadata": {},
   "outputs": [
    {
     "name": "stderr",
     "output_type": "stream",
     "text": [
      "/Users/maksim.rostov/pdev/freestyling/agents/hf-course/.conda/lib/python3.12/site-packages/tqdm/auto.py:21: TqdmWarning: IProgress not found. Please update jupyter and ipywidgets. See https://ipywidgets.readthedocs.io/en/stable/user_install.html\n",
      "  from .autonotebook import tqdm as notebook_tqdm\n"
     ]
    }
   ],
   "source": [
    "import os  \n",
    "from pprint import pprint\n",
    "from huggingface_hub import InferenceClient"
   ]
  },
  {
   "cell_type": "code",
   "execution_count": 20,
   "id": "f20f1d80",
   "metadata": {},
   "outputs": [],
   "source": [
    "MODEL_NAME_HF = \"meta-llama/Llama-3.3-70B-Instruct\"\n",
    "MODEL_NAME_OLLAMA = \"ollama_chat/qwen2:7b\"\n",
    "MODEL_NAME_OLLAMA_SHORT = \"qwen2:7b\"\n",
    "\n",
    "HF_TOKEN_ENV_VAR = \"HF_TOKEN\"\n",
    "MAIN_QUESTION_PRUSSIA = \"The capital of the old and already non-existant Prussian region was\"\n",
    "MAIN_QUESTION_WEATHER = \"Question: what is the weather in Amsterdam now?\""
   ]
  },
  {
   "cell_type": "code",
   "execution_count": null,
   "id": "433a0e6a",
   "metadata": {},
   "outputs": [],
   "source": [
    "#  ## Run with HF \n",
    "# def read_hf_token(path: str) -> str:\n",
    "#     file = os.open(path, os.O_RDONLY)\n",
    "#     buffer = b\"\"\n",
    "#     while chunk := os.read(file, 2048):\n",
    "#         buffer += chunk\n",
    "#     content_str = buffer.decode(\"utf-8\")\n",
    "   \n",
    "#     start = content_str.find(HF_TOKEN_ENV_VAR) + len(HF_TOKEN_ENV_VAR)+1\n",
    "#     end = content_str[start:].find(\"\\n\")\n",
    "\n",
    "#     return content_str[start:start+end]\n",
    "\n",
    "# os.environ[HF_TOKEN_ENV_VAR] = read_hf_token(\".env\")\n",
    "\n",
    "# MODEL_NAME_HF = \"meta-llama/Llama-3.3-70B-Instruct\"\n",
    "\n",
    "# client = InferenceClient(MODEL_NAME_HF, provider=\"hf-inference\")\n",
    "# client.chat.completions.create(\n",
    "#     messages=[{\"role\": \"user\", \"content\": MAIN_QUESTION_PRUSSIA }],\n",
    "#     max_tokens=100,\n",
    "# )\n",
    "\n",
    "# ## INSPECT \n",
    "\n",
    "# from transformers import AutoTokenizer\n",
    "\n",
    "# tokenizer = AutoTokenizer.from_pretrained(MODEL_NAME_HF)\n",
    "\n",
    "# raw_prompt = tokenizer.apply_chat_template(\n",
    "#     [{\"role\": \"user\", \"content\": MAIN_QUESTION_PRUSSIA}],\n",
    "#     tokenize=False  # to get a raw string instead of token IDs\n",
    "# )\n",
    "# print(raw_prompt)"
   ]
  },
  {
   "cell_type": "code",
   "execution_count": 11,
   "id": "1e933efa",
   "metadata": {},
   "outputs": [],
   "source": [
    "# This system prompt is a bit more complex and actually contains the function description already appended.\n",
    "# Here we suppose that the textual description of the tools has already been appended.\n",
    "\n",
    "SYSTEM_PROMPT = \"\"\"Answer the following questions as best you can. You have access to the following tools:\n",
    "\n",
    "get_weather: Get the current weather in a given location\n",
    "\n",
    "The way you use the tools is by specifying a json blob.\n",
    "Specifically, this json should have an `action` key (with the name of the tool to use) and an `action_input` key (with the input to the tool going here).\n",
    "\n",
    "The only values that should be in the \"action\" field are:\n",
    "get_weather: Get the current weather in a given location, args: {\"location\": {\"type\": \"string\"}}\n",
    "example use :\n",
    "\n",
    "{{\n",
    "  \"action\": \"get_weather\",\n",
    "  \"action_input\": {\"location\": \"New York\"}\n",
    "}}\n",
    "\n",
    "\n",
    "ALWAYS use the following format:\n",
    "\n",
    "Question: the input question you must answer\n",
    "Thought: you should always think about one action to take. Only one action at a time in this format:\n",
    "Action:\n",
    "\n",
    "$JSON_BLOB (inside markdown cell)\n",
    "\n",
    "Observation: the result of the action. This Observation is unique, complete, and the source of truth.\n",
    "... (this Thought/Action/Observation can repeat N times, you should take several steps when needed. The $JSON_BLOB must be formatted as markdown and only use a SINGLE action at a time.)\n",
    "\n",
    "You must always end your output with the following format:\n",
    "\n",
    "Thought: I now know the final answer\n",
    "Final Answer: the final answer to the original input question\n",
    "\n",
    "Now begin! Reminder to ALWAYS use the exact characters `Final Answer:` when you provide a definitive answer. \"\"\"\n",
    "\n",
    "messages = [\n",
    "    {\"role\":\"system\", \"content\": SYSTEM_PROMPT},\n",
    "    {\"role\":\"user\", \"content\": MAIN_QUESTION_WEATHER}\n",
    "]"
   ]
  },
  {
   "cell_type": "code",
   "execution_count": null,
   "id": "acde80fb",
   "metadata": {},
   "outputs": [],
   "source": [
    "## OPTION: use litellm. \n",
    "## Open question: why do we need it if ollama implements openai api? \n",
    "\n",
    "# from litellm import completion\n",
    "# response = completion(\n",
    "#             model=\"ollama/\"+MODEL_NAME_OLLAMA_SHORT,\n",
    "#             messages = messages,\n",
    "#             api_base=\"http://localhost:11434\",\n",
    "# )"
   ]
  },
  {
   "cell_type": "code",
   "execution_count": null,
   "id": "838c6082",
   "metadata": {},
   "outputs": [],
   "source": [
    "from openai import OpenAI\n",
    "\n",
    "client = OpenAI(\n",
    "    base_url='http://localhost:11434/v1/',\n",
    "    # required but ignored\n",
    "    api_key='ollama',\n",
    ")\n",
    "\n",
    "chat_completion = client.chat.completions.create(\n",
    "    messages=messages,\n",
    "    model=MODEL_NAME_OLLAMA_SHORT,\n",
    ")\n",
    "print(chat_completion)"
   ]
  },
  {
   "cell_type": "code",
   "execution_count": 47,
   "id": "8c476e51",
   "metadata": {},
   "outputs": [
    {
     "name": "stdout",
     "output_type": "stream",
     "text": [
      "ChatCompletion(id='chatcmpl-395', choices=[Choice(finish_reason='stop', index=0, logprobs=None, message=ChatCompletionMessage(content='Thought: I need to get the current weather condition for Amsterdam, as per the user\\'s query.\\n\\nAction:\\n```\\n{   \"action\": \"get_weather\",\\n    \"action_input\": {  \"location\": {  \"type\": \"string\" } },\\n}\\n```\\n\\n\\n', refusal=None, role='assistant', annotations=None, audio=None, function_call=None, tool_calls=None))], created=1747745662, model='qwen2:7b', object='chat.completion', service_tier=None, system_fingerprint='fp_ollama', usage=CompletionUsage(completion_tokens=59, prompt_tokens=335, total_tokens=394, completion_tokens_details=None, prompt_tokens_details=None))\n"
     ]
    }
   ],
   "source": [
    "## Stop LLM output when it reaches a certain string \n",
    "out = client.chat.completions.create(\n",
    "    messages=messages,\n",
    "    model=MODEL_NAME_OLLAMA_SHORT,\n",
    "    stop=[\"Observation:\"]\n",
    ")\n",
    "print(out)"
   ]
  },
  {
   "cell_type": "code",
   "execution_count": 51,
   "id": "6656fc2c",
   "metadata": {},
   "outputs": [
    {
     "name": "stdout",
     "output_type": "stream",
     "text": [
      "Choice(finish_reason='stop', index=0, logprobs=None, message=ChatCompletionMessage(content='Thought: With this result confirmed, I can infer that Amsterdam currently experiences a delightful climate.\\n\\nFinal Answer:\\nThe current weather conditions in Amsterdam are sunny with cool low temperatures.', refusal=None, role='assistant', annotations=None, audio=None, function_call=None, tool_calls=None))\n"
     ]
    }
   ],
   "source": [
    "## Now we define a function that we would call after parsing the first message. \n",
    "def get_weather(location):\n",
    "    return f\"the weather in {location} is sunny with low temperatures. \\n\"\n",
    "\n",
    "get_weather('Amsterdam')\n",
    "\n",
    "messages = [\n",
    "    {\"role\":\"system\", \"content\": SYSTEM_PROMPT},\n",
    "    {\"role\":\"user\", \"content\": \"Question: what is the weather in Amsterdam now?\"},\n",
    "    {\"role\":\"assistant\", \"content\":out.choices[0].message.content+ \"Observation: \" + get_weather('Amsterdam')},\n",
    "]\n",
    "\n",
    "out = client.chat.completions.create(\n",
    "    messages=messages,\n",
    "    model=MODEL_NAME_OLLAMA_SHORT,\n",
    "    # max_completion_tokens=200,\n",
    ")\n",
    "print(out.choices[0])"
   ]
  },
  {
   "cell_type": "code",
   "execution_count": 54,
   "id": "453b7c59",
   "metadata": {},
   "outputs": [
    {
     "data": {
      "text/plain": [
       "'Thought: With this result confirmed, I can infer that Amsterdam currently experiences a delightful climate.\\n\\nFinal Answer:\\nThe current weather conditions in Amsterdam are sunny with cool low temperatures.'"
      ]
     },
     "execution_count": 54,
     "metadata": {},
     "output_type": "execute_result"
    }
   ],
   "source": [
    "out.choices[0].message.content\n"
   ]
  },
  {
   "cell_type": "code",
   "execution_count": null,
   "id": "6124f36f",
   "metadata": {},
   "outputs": [],
   "source": []
  },
  {
   "cell_type": "code",
   "execution_count": null,
   "id": "8d6ef417",
   "metadata": {},
   "outputs": [],
   "source": []
  }
 ],
 "metadata": {
  "kernelspec": {
   "display_name": "Python 3",
   "language": "python",
   "name": "python3"
  },
  "language_info": {
   "codemirror_mode": {
    "name": "ipython",
    "version": 3
   },
   "file_extension": ".py",
   "mimetype": "text/x-python",
   "name": "python",
   "nbconvert_exporter": "python",
   "pygments_lexer": "ipython3",
   "version": "3.12.10"
  }
 },
 "nbformat": 4,
 "nbformat_minor": 5
}
