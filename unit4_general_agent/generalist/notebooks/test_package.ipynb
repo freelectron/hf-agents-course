{
 "cells": [
  {
   "cell_type": "code",
   "execution_count": 7,
   "id": "625d6d37",
   "metadata": {},
   "outputs": [],
   "source": [
    "from generalist.tools.data_model import Task, ContentResource"
   ]
  },
  {
   "cell_type": "code",
   "execution_count": null,
   "id": "2cb8b0e9",
   "metadata": {},
   "outputs": [],
   "source": [
    "from generalist.tools.planning import create_plan\n",
    "from generalist.utils import pprint \n"
   ]
  },
  {
   "cell_type": "code",
   "execution_count": 3,
   "id": "62b3a119",
   "metadata": {},
   "outputs": [
    {
     "data": {
      "text/plain": [
       "'{\\n  \"objective\": \"Research and compile a comprehensive history of Prussia, covering its key events, rulers, and cultural impacts.\",\\n  \"plan\": [\\n    \"Identify primary sources such as historical texts, academic journals, and reputable websites to gather data on Prussian history\",\\n    \"Compile a timeline of major political and military events in Prussian history from the early medieval period through World War II\",\\n    \"Summarize biographies of significant rulers and leaders in Prussia, focusing on their impact on the nation\\'s development\",\\n    \"Analyze cultural and social developments within Prussia over time, including its contributions to philosophy, science, and arts\",\\n    \"Synthesize findings into a cohesive narrative that outlines the evolution of Prussia from a small principality to one of Europe\\\\u2019s most powerful states\"\\n  ]\\n}'"
      ]
     },
     "execution_count": 3,
     "metadata": {},
     "output_type": "execute_result"
    }
   ],
   "source": [
    "create_plan(\"History of Prusssia\")"
   ]
  },
  {
   "cell_type": "code",
   "execution_count": null,
   "id": "695079d0",
   "metadata": {},
   "outputs": [],
   "source": []
  },
  {
   "cell_type": "code",
   "execution_count": null,
   "id": "47a60db1",
   "metadata": {},
   "outputs": [],
   "source": []
  },
  {
   "cell_type": "code",
   "execution_count": null,
   "id": "dd37c0f9",
   "metadata": {},
   "outputs": [],
   "source": []
  },
  {
   "cell_type": "code",
   "execution_count": null,
   "id": "1926016b",
   "metadata": {},
   "outputs": [],
   "source": []
  }
 ],
 "metadata": {
  "kernelspec": {
   "display_name": ".venv",
   "language": "python",
   "name": "python3"
  },
  "language_info": {
   "codemirror_mode": {
    "name": "ipython",
    "version": 3
   },
   "file_extension": ".py",
   "mimetype": "text/x-python",
   "name": "python",
   "nbconvert_exporter": "python",
   "pygments_lexer": "ipython3",
   "version": "3.11.11"
  }
 },
 "nbformat": 4,
 "nbformat_minor": 5
}
