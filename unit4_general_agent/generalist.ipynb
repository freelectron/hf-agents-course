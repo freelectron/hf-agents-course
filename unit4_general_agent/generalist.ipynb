{
 "cells": [
  {
   "cell_type": "code",
   "execution_count": 1,
   "id": "9819de21",
   "metadata": {},
   "outputs": [
    {
     "name": "stderr",
     "output_type": "stream",
     "text": [
      "/Users/maksim.rostov/pdev/freestyling/agents/hf-course/.conda/lib/python3.12/site-packages/tqdm/auto.py:21: TqdmWarning: IProgress not found. Please update jupyter and ipywidgets. See https://ipywidgets.readthedocs.io/en/stable/user_install.html\n",
      "  from .autonotebook import tqdm as notebook_tqdm\n"
     ]
    }
   ],
   "source": [
    "import os\n",
    "import gradio as gr\n",
    "import requests\n",
    "import inspect\n",
    "import pandas as pd\n",
    "\n",
    "DEFAULT_API_URL = api_url = \"https://agents-course-unit4-scoring.hf.space\"\n",
    "questions_url = f\"{api_url}/questions\" "
   ]
  },
  {
   "cell_type": "code",
   "execution_count": 3,
   "id": "5702a6a2",
   "metadata": {},
   "outputs": [
    {
     "name": "stdout",
     "output_type": "stream",
     "text": [
      "Fetching questions from: https://agents-course-unit4-scoring.hf.space/questions\n",
      "Fetched 20 questions.\n"
     ]
    }
   ],
   "source": [
    "print(f\"Fetching questions from: {questions_url}\")\n",
    "try:\n",
    "    response = requests.get(questions_url, timeout=15)\n",
    "    response.raise_for_status()\n",
    "    questions_data = response.json()\n",
    "    if not questions_data:\n",
    "            print(\"Fetched questions list is empty.\")\n",
    "    print(f\"Fetched {len(questions_data)} questions.\")\n",
    "except requests.exceptions.RequestException as e:\n",
    "    print(f\"Error fetching questions: {e}\")\n",
    "except requests.exceptions.JSONDecodeError as e:\n",
    "        print(f\"Error decoding JSON response from questions endpoint: {e}\")\n",
    "        print(f\"Response text: {response.text[:500]}\")\n",
    "except Exception as e:\n",
    "    print(f\"An unexpected error occurred fetching questions: {e}\")"
   ]
  },
  {
   "cell_type": "code",
   "execution_count": 6,
   "id": "b47b0213",
   "metadata": {},
   "outputs": [
    {
     "name": "stdout",
     "output_type": "stream",
     "text": [
      "How many studio albums were published by Mercedes Sosa between 2000 and 2009 (included)? You can use the latest 2022 version of english wikipedia.\n",
      "========================================================================\n",
      "In the video https://www.youtube.com/watch?v=L1vXCYZAYYM, what is the highest number of bird species to be on camera simultaneously?\n",
      "========================================================================\n",
      ".rewsna eht sa \"tfel\" drow eht fo etisoppo eht etirw ,ecnetnes siht dnatsrednu uoy fI\n",
      "========================================================================\n",
      "Review the chess position provided in the image. It is black's turn. Provide the correct next move for black which guarantees a win. Please provide your response in algebraic notation.\n",
      "========================================================================\n",
      "Who nominated the only Featured Article on English Wikipedia about a dinosaur that was promoted in November 2016?\n",
      "========================================================================\n",
      "Given this table defining * on the set S = {a, b, c, d, e}\n",
      "\n",
      "|*|a|b|c|d|e|\n",
      "|---|---|---|---|---|---|\n",
      "|a|a|b|c|b|d|\n",
      "|b|b|c|a|e|c|\n",
      "|c|c|a|b|b|a|\n",
      "|d|b|e|b|e|d|\n",
      "|e|d|b|a|d|c|\n",
      "\n",
      "provide the subset of S involved in any possible counter-examples that prove * is not commutative. Provide your answer as a comma separated list of the elements in the set in alphabetical order.\n",
      "========================================================================\n",
      "Examine the video at https://www.youtube.com/watch?v=1htKBjuUWec.\n",
      "\n",
      "What does Teal'c say in response to the question \"Isn't that hot?\"\n",
      "========================================================================\n",
      "What is the surname of the equine veterinarian mentioned in 1.E Exercises from the chemistry materials licensed by Marisa Alviar-Agnew & Henry Agnew under the CK-12 license in LibreText's Introductory Chemistry materials as compiled 08/21/2023?\n",
      "========================================================================\n",
      "I'm making a grocery list for my mom, but she's a professor of botany and she's a real stickler when it comes to categorizing things. I need to add different foods to different categories on the grocery list, but if I make a mistake, she won't buy anything inserted in the wrong category. Here's the list I have so far:\n",
      "\n",
      "milk, eggs, flour, whole bean coffee, Oreos, sweet potatoes, fresh basil, plums, green beans, rice, corn, bell pepper, whole allspice, acorns, broccoli, celery, zucchini, lettuce, peanuts\n",
      "\n",
      "I need to make headings for the fruits and vegetables. Could you please create a list of just the vegetables from my list? If you could do that, then I can figure out how to categorize the rest of the list into the appropriate categories. But remember that my mom is a real stickler, so make sure that no botanical fruits end up on the vegetable list, or she won't get them when she's at the store. Please alphabetize the list of vegetables, and place each item in a comma separated list.\n",
      "========================================================================\n",
      "Hi, I'm making a pie but I could use some help with my shopping list. I have everything I need for the crust, but I'm not sure about the filling. I got the recipe from my friend Aditi, but she left it as a voice memo and the speaker on my phone is buzzing so I can't quite make out what she's saying. Could you please listen to the recipe and list all of the ingredients that my friend described? I only want the ingredients for the filling, as I have everything I need to make my favorite pie crust. I've attached the recipe as Strawberry pie.mp3.\n",
      "\n",
      "In your response, please only list the ingredients, not any measurements. So if the recipe calls for \"a pinch of salt\" or \"two cups of ripe strawberries\" the ingredients on the list would be \"salt\" and \"ripe strawberries\".\n",
      "\n",
      "Please format your response as a comma separated list of ingredients. Also, please alphabetize the ingredients.\n",
      "========================================================================\n",
      "Who did the actor who played Ray in the Polish-language version of Everybody Loves Raymond play in Magda M.? Give only the first name.\n",
      "========================================================================\n",
      "What is the final numeric output from the attached Python code?\n",
      "========================================================================\n",
      "How many at bats did the Yankee with the most walks in the 1977 regular season have that same season?\n",
      "========================================================================\n",
      "Hi, I was out sick from my classes on Friday, so I'm trying to figure out what I need to study for my Calculus mid-term next week. My friend from class sent me an audio recording of Professor Willowbrook giving out the recommended reading for the test, but my headphones are broken :(\n",
      "\n",
      "Could you please listen to the recording for me and tell me the page numbers I'm supposed to go over? I've attached a file called Homework.mp3 that has the recording. Please provide just the page numbers as a comma-delimited list. And please provide the list in ascending order.\n",
      "========================================================================\n",
      "On June 6, 2023, an article by Carolyn Collins Petersen was published in Universe Today. This article mentions a team that produced a paper about their observations, linked at the bottom of the article. Find this paper. Under what NASA award number was the work performed by R. G. Arendt supported by?\n",
      "========================================================================\n",
      "Where were the Vietnamese specimens described by Kuznetzov in Nedoshivina's 2010 paper eventually deposited? Just give me the city name without abbreviations.\n",
      "========================================================================\n",
      "What country had the least number of athletes at the 1928 Summer Olympics? If there's a tie for a number of athletes, return the first in alphabetical order. Give the IOC country code as your answer.\n",
      "========================================================================\n",
      "Who are the pitchers with the number before and after Taishō Tamai's number as of July 2023? Give them to me in the form Pitcher Before, Pitcher After, use their last names only, in Roman characters.\n",
      "========================================================================\n",
      "The attached Excel file contains the sales of menu items for a local fast-food chain. What were the total sales that the chain made from food (not including drinks)? Express your answer in USD with two decimal places.\n",
      "========================================================================\n",
      "What is the first name of the only Malko Competition recipient from the 20th Century (after 1977) whose nationality on record is a country that no longer exists?\n",
      "========================================================================\n"
     ]
    }
   ],
   "source": [
    "for item in questions_data:\n",
    "    task_id = item.get(\"task_id\")\n",
    "    question_text = item.get(\"question\")\n",
    "    if not task_id or question_text is None:\n",
    "        print(f\"Skipping item with missing task_id or question: {item}\")\n",
    "    else:\n",
    "        print(question_text,end=\"\\n========================================================================\\n\")"
   ]
  },
  {
   "cell_type": "code",
   "execution_count": null,
   "id": "9105cfc5",
   "metadata": {},
   "outputs": [],
   "source": []
  }
 ],
 "metadata": {
  "kernelspec": {
   "display_name": "Python 3",
   "language": "python",
   "name": "python3"
  },
  "language_info": {
   "codemirror_mode": {
    "name": "ipython",
    "version": 3
   },
   "file_extension": ".py",
   "mimetype": "text/x-python",
   "name": "python",
   "nbconvert_exporter": "python",
   "pygments_lexer": "ipython3",
   "version": "3.12.10"
  }
 },
 "nbformat": 4,
 "nbformat_minor": 5
}
