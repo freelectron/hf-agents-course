{
 "cells": [
  {
   "cell_type": "code",
   "execution_count": null,
   "id": "9819de21",
   "metadata": {},
   "outputs": [],
   "source": [
    "import os \n",
    "import requests\n",
    "\n",
    "import matplotlib.pyplot as plt\n",
    "import pandas as pd\n",
    "import yt_dlp\n",
    "\n",
    "DEFAULT_API_URL = api_url = \"https://agents-course-unit4-scoring.hf.space\"\n",
    "questions_url = f\"{api_url}/questions\" \n",
    "files_url = f\"{api_url}/files\" "
   ]
  },
  {
   "cell_type": "markdown",
   "id": "57c64a3d",
   "metadata": {},
   "source": [
    "### Downloading questions"
   ]
  },
  {
   "cell_type": "code",
   "execution_count": null,
   "id": "5702a6a2",
   "metadata": {},
   "outputs": [],
   "source": [
    "print(f\"Fetching questions from: {questions_url}\")\n",
    "try:\n",
    "    response = requests.get(questions_url, timeout=15)\n",
    "    response.raise_for_status()\n",
    "    files_data = response.json()\n",
    "    if not files_data:\n",
    "            print(\"Fetched questions list is empty.\")\n",
    "    print(f\"Fetched {len(files_data)} questions.\")\n",
    "except requests.exceptions.RequestException as e:\n",
    "    print(f\"Error fetching questions: {e}\")\n",
    "except requests.exceptions.JSONDecodeError as e:\n",
    "        print(f\"Error decoding JSON response from questions endpoint: {e}\")\n",
    "        print(f\"Response text: {response.text[:500]}\")\n",
    "except Exception as e:\n",
    "    print(f\"An unexpected error occurred fetching questions: {e}\")"
   ]
  },
  {
   "cell_type": "code",
   "execution_count": null,
   "id": "b47b0213",
   "metadata": {},
   "outputs": [],
   "source": [
    "for item in files_data:\n",
    "    task_id = item.get(\"task_id\")\n",
    "    question_text = item.get(\"question\")\n",
    "    if not task_id or question_text is None:\n",
    "        print(f\"Skipping item with missing task_id or question: {item}\")\n",
    "    else:\n",
    "        print(\"Taks ID for the question: \", task_id)\n",
    "        print(question_text,end=\"\\n========================================================================\\n\")"
   ]
  },
  {
   "cell_type": "markdown",
   "id": "60cc3b5c",
   "metadata": {},
   "source": [
    "### Working with Audio"
   ]
  },
  {
   "cell_type": "code",
   "execution_count": null,
   "id": "a2e35ca4",
   "metadata": {},
   "outputs": [],
   "source": [
    "class FailedToDownloadAudio(Exception):\n",
    "    pass\n",
    "\n",
    "def download_audio_mp3(file_path:str, url:str, target_height:int=144):\n",
    "    \"\"\" Primarily configured and used for YouTube. \"\"\"\n",
    "    file_path = f'{file_path}'\n",
    "    ydl_opts = {\n",
    "    'format': 'bestaudio/best',  # Best audio quality\n",
    "    'outtmpl': file_path,\n",
    "    'postprocessors': [{\n",
    "        'key': 'FFmpegExtractAudio',\n",
    "        'preferredcodec': 'mp3',  # Or 'aac', 'm4a', etc.\n",
    "        'preferredquality': '192',  # Bitrate (e.g., 192k)\n",
    "        }],\n",
    "    }\n",
    "    with yt_dlp.YoutubeDL(ydl_opts) as ydl:\n",
    "        info = ydl.extract_info(url, download=False)\n",
    "        ydl.download([url])\n",
    "\n",
    "    return file_path, info\n",
    "\n",
    "def download_audio(file_name: str, url: str) -> tuple[str, dict[str,str]]:\n",
    "    file_path_no_extension = os.path.abspath(file_name)\n",
    "    file_path, meta = download_audio_mp3(file_path_no_extension, url)\n",
    "    print(f\"Downloaded file to {file_path} with meta info {meta}.\")\n",
    "    \n",
    "    return file_path, meta\n"
   ]
  },
  {
   "cell_type": "code",
   "execution_count": null,
   "id": "9105cfc5",
   "metadata": {},
   "outputs": [],
   "source": [
    "print(f\"Fetching files from: {files_url}\")\n",
    "task_id = \"99c9cc74-fdc8-46c6-8f8d-3ce2d3bfeea3\"\n",
    "file_url = f\"{files_url}/{task_id}\"\n",
    "file_type = \"audio\"\n",
    "file_name = \"99c9cc74-fdc8-46c6-8f8d-3ce2d3bfeea3\"\n",
    "try:\n",
    "    if not response.content:\n",
    "        raise ValueError(\"Fetched files list is empty.\")\n",
    "    match file_type.lower(): \n",
    "        case \"audio\":\n",
    "            file_path, meta = download_audio(file_name, file_url)\n",
    "        case _:\n",
    "            raise NotImplementedError(\"this file type is not implemented\")\n",
    "    print(\"Downloaded the file: \", file_path)\n",
    "except requests.exceptions.RequestException as e:\n",
    "    print(f\"Error fetching files: {e}\")\n",
    "except Exception as e:\n",
    "    print(f\"An unexpected error occurred fetching questions: {e}\")"
   ]
  },
  {
   "cell_type": "code",
   "execution_count": null,
   "id": "dbb9d637",
   "metadata": {},
   "outputs": [],
   "source": [
    "import whisper\n",
    "\n",
    "audio_transcriber = whisper.load_model(\"tiny\")\n",
    "transcription = audio_transcriber.transcribe(\"99c9cc74-fdc8-46c6-8f8d-3ce2d3bfeea3.mp3\")"
   ]
  },
  {
   "cell_type": "markdown",
   "id": "cb600d9e",
   "metadata": {},
   "source": [
    "### Working with Video"
   ]
  },
  {
   "cell_type": "code",
   "execution_count": null,
   "id": "231415d1",
   "metadata": {},
   "outputs": [],
   "source": [
    "class FailedToDownloadVideo(Exception):\n",
    "    pass \n",
    "\n",
    "def download_video_mp4(file_path:str, url:str, target_height:int=730):\n",
    "    \"\"\" Primarily configured and used for YouTube. \"\"\"\n",
    "    file_path = f'{file_path}.mp4'\n",
    "    ydl_opts = {\n",
    "        'format': f'bestvideo[height<={target_height}][ext=mp4]',\n",
    "        'outtmpl': file_path,\n",
    "    }\n",
    "    with yt_dlp.YoutubeDL(ydl_opts) as ydl:\n",
    "        info = ydl.extract_info(url, download=False)\n",
    "        ydl.download([url])\n",
    "\n",
    "    return file_path, info\n",
    "    \n",
    "def download_video(file_name: str, url: str) -> tuple[str, dict[str,str]]:\n",
    "    file_path_no_extension = os.path.abspath(file_name)\n",
    "    file_path, meta = download_video_mp4(file_path_no_extension, url)\n",
    "    print(f\"Downloaded file to {file_path} with meta info {meta}.\")\n",
    "\n",
    "    return file_path, meta"
   ]
  },
  {
   "cell_type": "code",
   "execution_count": null,
   "id": "58fb313e",
   "metadata": {},
   "outputs": [],
   "source": [
    "print(f\"Fetching files from: {files_url}\")\n",
    "task_id = \"a1e91b78-d3d8-4675-bb8d-62741b4b68a6\"\n",
    "file_url = \"https://www.youtube.com/watch?v=L1vXCYZAYYM\"\n",
    "file_type = \"video\"\n",
    "file_name = \"a1e91b78-d3d8-4675-bb8d-62741b4b68a6\"\n",
    "try:\n",
    "    match file_type.lower(): \n",
    "        case \"audio\":\n",
    "            file_path, meta = download_audio(file_name, file_url)\n",
    "        case \"video\":\n",
    "            file_path, meta = download_video(file_name, file_url)\n",
    "        case _:\n",
    "            raise NotImplementedError(\"this file type is not implemented\")\n",
    "    print(\"Downloaded the file: \", file_path)\n",
    "except requests.exceptions.RequestException as e:\n",
    "    print(f\"Error fetching files: {e}\")\n",
    "except Exception as e:\n",
    "    print(f\"An unexpected error occurred fetching questions: {e}\")"
   ]
  },
  {
   "cell_type": "code",
   "execution_count": null,
   "id": "b7b45ed5",
   "metadata": {},
   "outputs": [],
   "source": [
    "import cv2 \n",
    "\n",
    "# Capture frames from the video\n",
    "def capture_frames(file_path: str, output_folder_prefix: str = \"frames\") -> str: \n",
    "    file_name = file_path.split(\"/\")[-1]\n",
    "    output_folder = os.path.join(output_folder_prefix, file_name)\n",
    "    os.makedirs(output_folder, exist_ok=False)\n",
    "\n",
    "    captioner = cv2.VideoCapture(file_path)\n",
    "    # Reads the metadata of the video file \n",
    "    # If the FPS is variable (VFR) instead of constant, this value is just an average, not the exact number for each second\n",
    "    fps = int(captioner.get(cv2.CAP_PROP_FPS))      \n",
    "    frame_counter = 0 \n",
    "    continue_flag = True\n",
    "    while continue_flag:\n",
    "        continue_flag, frame = captioner.read()\n",
    "        if not continue_flag:\n",
    "            break \n",
    "\n",
    "        if frame_counter % fps == 0:\n",
    "            frame_file_name = os.path.join(output_folder, f\"frame_{frame_counter}.jpg\")\n",
    "            cv2.imwrite(frame_file_name, frame)\n",
    "\n",
    "        frame_counter+=1\n",
    "    \n",
    "    return output_folder\n",
    "\n",
    "video_file_path = \"/Users/maksim.rostov/pdev/freestyling/agents/hf-course/unit4_general_agent/a1e91b78-d3d8-4675-bb8d-62741b4b68a6.mp4\"\n",
    "video_frames_folder = capture_frames(video_file_path)"
   ]
  },
  {
   "cell_type": "code",
   "execution_count": null,
   "id": "62d8fdab",
   "metadata": {},
   "outputs": [],
   "source": [
    "from ultralytics import YOLO\n",
    "\n",
    "\n",
    "def plot_annotated_image_ultralytics(result):\n",
    "    # The plot() method returns a BGR numpy array of the image with predictions\n",
    "    bgr_array = result.plot()\n",
    "    rgb_array = cv2.cvtColor(bgr_array, cv2.COLOR_BGR2RGB)\n",
    "    plt.imshow(rgb_array)\n",
    "    plt.axis(\"off\")\n",
    "    plt.show()    \n",
    "\n",
    "def count_ultralytics_class(result, detect_class_name: str = \"bird\", threshold_confidence_lvl=0):\n",
    "    class_count = 0 \n",
    "    for box in result.boxes:\n",
    "        class_id = int(box.cls[0])\n",
    "        confidence_lvl = float(box.conf[0])\n",
    "        class_name = model.names[class_id]\n",
    "        if class_name == detect_class_name and confidence_lvl > threshold_confidence_lvl:\n",
    "            class_count += 1\n",
    "             \n",
    "    return class_count\n",
    "\n",
    "video_frames_folder = \"/Users/maksim.rostov/pdev/freestyling/agents/hf-course/unit4_general_agent/frames/a1e91b78-d3d8-4675-bb8d-62741b4b68a6.mp4\"\n",
    "frames = sorted([f for f in os.listdir(video_frames_folder) if f.endswith(('.png', '.jpg', '.jpeg'))])\n",
    "    \n",
    "model = YOLO('yolov8n.pt')\n",
    "\n",
    "frame_birds_counts = dict()\n",
    "for frame in frames:\n",
    "    frame_file_path = os.path.join(video_frames_folder, frame)\n",
    "\n",
    "    # Since we give only one image at the time, just take the first result\n",
    "    result = model(frame_file_path)[0]\n",
    "\n",
    "    count = count_ultralytics_class(result)\n",
    "    frame_birds_counts[frame] = count\n",
    "\n"
   ]
  },
  {
   "cell_type": "code",
   "execution_count": null,
   "id": "22917d22",
   "metadata": {},
   "outputs": [],
   "source": [
    "max_key = max(frame_birds_counts, key=frame_birds_counts.get)\n",
    "max_value = max(frame_birds_counts.values())\n",
    "\n",
    "print(\"Highest count of birds amongst all frames is \", max_key, \"with the value \", max_value)"
   ]
  },
  {
   "cell_type": "markdown",
   "id": "048a994c",
   "metadata": {},
   "source": [
    "### Working with Web"
   ]
  },
  {
   "cell_type": "code",
   "execution_count": null,
   "id": "96187a51",
   "metadata": {},
   "outputs": [],
   "source": []
  },
  {
   "cell_type": "code",
   "execution_count": null,
   "id": "88e3c3e3",
   "metadata": {},
   "outputs": [],
   "source": []
  },
  {
   "cell_type": "code",
   "execution_count": null,
   "id": "1eae2eb2",
   "metadata": {},
   "outputs": [],
   "source": []
  },
  {
   "cell_type": "code",
   "execution_count": null,
   "id": "0177b1cf",
   "metadata": {},
   "outputs": [],
   "source": []
  }
 ],
 "metadata": {
  "kernelspec": {
   "display_name": "Python 3",
   "language": "python",
   "name": "python3"
  },
  "language_info": {
   "codemirror_mode": {
    "name": "ipython",
    "version": 3
   },
   "file_extension": ".py",
   "mimetype": "text/x-python",
   "name": "python",
   "nbconvert_exporter": "python",
   "pygments_lexer": "ipython3",
   "version": "3.12.10"
  }
 },
 "nbformat": 4,
 "nbformat_minor": 5
}
