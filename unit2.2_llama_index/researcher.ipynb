{
  "cells": [
    {
      "cell_type": "markdown",
      "metadata": {},
      "source": [
        "## Utils"
      ]
    },
    {
      "cell_type": "code",
      "execution_count": null,
      "metadata": {},
      "outputs": [],
      "source": [
        "def pprint(text):\n",
        "    import textwrap\n",
        "    wrapped_text = textwrap.fill(text, width=100) \n",
        "    print(wrapped_text)"
      ]
    },
    {
      "cell_type": "markdown",
      "metadata": {},
      "source": [
        "## LLMs"
      ]
    },
    {
      "cell_type": "code",
      "execution_count": 36,
      "metadata": {},
      "outputs": [
        {
          "name": "stderr",
          "output_type": "stream",
          "text": [
            "/Users/maksim.rostov/pdev/freestyling/agents/hf-course/.conda/lib/python3.12/site-packages/tqdm/auto.py:21: TqdmWarning: IProgress not found. Please update jupyter and ipywidgets. See https://ipywidgets.readthedocs.io/en/stable/user_install.html\n",
            "  from .autonotebook import tqdm as notebook_tqdm\n"
          ]
        }
      ],
      "source": [
        "from llama_index.embeddings.huggingface import HuggingFaceEmbedding\n",
        "\n",
        "emb_model = HuggingFaceEmbedding(model_name=\"BAAI/bge-small-en-v1.5\")"
      ]
    },
    {
      "cell_type": "code",
      "execution_count": null,
      "metadata": {},
      "outputs": [],
      "source": [
        "from llama_index.llms.ollama import Ollama  \n",
        "\n",
        "chat_model = Ollama(model=\"qwen2:7b\")"
      ]
    },
    {
      "cell_type": "markdown",
      "metadata": {},
      "source": []
    },
    {
      "cell_type": "markdown",
      "metadata": {
        "id": "dnsDEuS1wHh-"
      },
      "source": [
        "## Researcher: An Agent Workflow\n",
        "\n",
        "Let's create an agent workflow that would: \n",
        " 1. take a topic to write a blogpost about and subdivide it into section\n",
        " 2. In the beginning define the variables and terminology that is going to be used for explaining (mathematical) science concepts  \n",
        "    a. Briefly explain those concepts if they are complicated? \n",
        " 3. For each section: \n",
        "    1. Look up websites that explain the concepts mentioned in each section. \n",
        "    2. Select websites that best fit to our topic and explain the concepts of this section. \n",
        "    3. Download the selected websites and process their data (make a note that you need to refence them)\n",
        "    4. Decide which website is the best at explaining each concept \n",
        "    5. "
      ]
    },
    {
      "cell_type": "markdown",
      "metadata": {},
      "source": []
    },
    {
      "cell_type": "markdown",
      "metadata": {},
      "source": []
    },
    {
      "cell_type": "code",
      "execution_count": null,
      "metadata": {},
      "outputs": [
        {
          "name": "stderr",
          "output_type": "stream",
          "text": [
            "2025/07/19 12:42:25 INFO mlflow.tracking.fluent: Experiment with name 'Test' does not exist. Creating a new experiment.\n",
            "/Users/maksim.rostov/pdev/freestyling/agents/hf-course/.conda/lib/python3.12/inspect.py:592: PydanticDeprecatedSince20: The `__fields__` attribute is deprecated, use `model_fields` instead. Deprecated in Pydantic V2.0 to be removed in V3.0. See Pydantic V2 Migration Guide at https://errors.pydantic.dev/2.11/migration/\n",
            "  value = getter(object, key)\n",
            "/Users/maksim.rostov/pdev/freestyling/agents/hf-course/.conda/lib/python3.12/inspect.py:592: PydanticDeprecatedSince20: The `__fields_set__` attribute is deprecated, use `model_fields_set` instead. Deprecated in Pydantic V2.0 to be removed in V3.0. See Pydantic V2 Migration Guide at https://errors.pydantic.dev/2.11/migration/\n",
            "  value = getter(object, key)\n",
            "/Users/maksim.rostov/pdev/freestyling/agents/hf-course/.conda/lib/python3.12/inspect.py:592: PydanticDeprecatedSince211: Accessing the 'model_computed_fields' attribute on the instance is deprecated. Instead, you should access this attribute from the model class. Deprecated in Pydantic V2.11 to be removed in V3.0.\n",
            "  value = getter(object, key)\n",
            "/Users/maksim.rostov/pdev/freestyling/agents/hf-course/.conda/lib/python3.12/inspect.py:592: PydanticDeprecatedSince211: Accessing the 'model_fields' attribute on the instance is deprecated. Instead, you should access this attribute from the model class. Deprecated in Pydantic V2.11 to be removed in V3.0.\n",
            "  value = getter(object, key)\n",
            "/Users/maksim.rostov/pdev/freestyling/agents/hf-course/.conda/lib/python3.12/inspect.py:592: PydanticDeprecatedSince20: The `__fields__` attribute is deprecated, use `model_fields` instead. Deprecated in Pydantic V2.0 to be removed in V3.0. See Pydantic V2 Migration Guide at https://errors.pydantic.dev/2.11/migration/\n",
            "  value = getter(object, key)\n",
            "/Users/maksim.rostov/pdev/freestyling/agents/hf-course/.conda/lib/python3.12/inspect.py:592: PydanticDeprecatedSince20: The `__fields_set__` attribute is deprecated, use `model_fields_set` instead. Deprecated in Pydantic V2.0 to be removed in V3.0. See Pydantic V2 Migration Guide at https://errors.pydantic.dev/2.11/migration/\n",
            "  value = getter(object, key)\n",
            "/Users/maksim.rostov/pdev/freestyling/agents/hf-course/.conda/lib/python3.12/inspect.py:592: PydanticDeprecatedSince211: Accessing the 'model_computed_fields' attribute on the instance is deprecated. Instead, you should access this attribute from the model class. Deprecated in Pydantic V2.11 to be removed in V3.0.\n",
            "  value = getter(object, key)\n",
            "/Users/maksim.rostov/pdev/freestyling/agents/hf-course/.conda/lib/python3.12/inspect.py:592: PydanticDeprecatedSince211: Accessing the 'model_fields' attribute on the instance is deprecated. Instead, you should access this attribute from the model class. Deprecated in Pydantic V2.11 to be removed in V3.0.\n",
            "  value = getter(object, key)\n",
            "/Users/maksim.rostov/pdev/freestyling/agents/hf-course/.conda/lib/python3.12/inspect.py:592: PydanticDeprecatedSince20: The `__fields__` attribute is deprecated, use `model_fields` instead. Deprecated in Pydantic V2.0 to be removed in V3.0. See Pydantic V2 Migration Guide at https://errors.pydantic.dev/2.11/migration/\n",
            "  value = getter(object, key)\n",
            "/Users/maksim.rostov/pdev/freestyling/agents/hf-course/.conda/lib/python3.12/inspect.py:592: PydanticDeprecatedSince20: The `__fields_set__` attribute is deprecated, use `model_fields_set` instead. Deprecated in Pydantic V2.0 to be removed in V3.0. See Pydantic V2 Migration Guide at https://errors.pydantic.dev/2.11/migration/\n",
            "  value = getter(object, key)\n",
            "/Users/maksim.rostov/pdev/freestyling/agents/hf-course/.conda/lib/python3.12/inspect.py:592: PydanticDeprecatedSince211: Accessing the 'model_computed_fields' attribute on the instance is deprecated. Instead, you should access this attribute from the model class. Deprecated in Pydantic V2.11 to be removed in V3.0.\n",
            "  value = getter(object, key)\n",
            "/Users/maksim.rostov/pdev/freestyling/agents/hf-course/.conda/lib/python3.12/inspect.py:592: PydanticDeprecatedSince211: Accessing the 'model_fields' attribute on the instance is deprecated. Instead, you should access this attribute from the model class. Deprecated in Pydantic V2.11 to be removed in V3.0.\n",
            "  value = getter(object, key)\n",
            "/Users/maksim.rostov/pdev/freestyling/agents/hf-course/.conda/lib/python3.12/inspect.py:592: PydanticDeprecatedSince20: The `__fields__` attribute is deprecated, use `model_fields` instead. Deprecated in Pydantic V2.0 to be removed in V3.0. See Pydantic V2 Migration Guide at https://errors.pydantic.dev/2.11/migration/\n",
            "  value = getter(object, key)\n",
            "/Users/maksim.rostov/pdev/freestyling/agents/hf-course/.conda/lib/python3.12/inspect.py:592: PydanticDeprecatedSince20: The `__fields_set__` attribute is deprecated, use `model_fields_set` instead. Deprecated in Pydantic V2.0 to be removed in V3.0. See Pydantic V2 Migration Guide at https://errors.pydantic.dev/2.11/migration/\n",
            "  value = getter(object, key)\n",
            "/Users/maksim.rostov/pdev/freestyling/agents/hf-course/.conda/lib/python3.12/inspect.py:592: PydanticDeprecatedSince211: Accessing the 'model_computed_fields' attribute on the instance is deprecated. Instead, you should access this attribute from the model class. Deprecated in Pydantic V2.11 to be removed in V3.0.\n",
            "  value = getter(object, key)\n",
            "/Users/maksim.rostov/pdev/freestyling/agents/hf-course/.conda/lib/python3.12/inspect.py:592: PydanticDeprecatedSince211: Accessing the 'model_fields' attribute on the instance is deprecated. Instead, you should access this attribute from the model class. Deprecated in Pydantic V2.11 to be removed in V3.0.\n",
            "  value = getter(object, key)\n",
            "/Users/maksim.rostov/pdev/freestyling/agents/hf-course/.conda/lib/python3.12/inspect.py:592: PydanticDeprecatedSince20: The `__fields__` attribute is deprecated, use `model_fields` instead. Deprecated in Pydantic V2.0 to be removed in V3.0. See Pydantic V2 Migration Guide at https://errors.pydantic.dev/2.11/migration/\n",
            "  value = getter(object, key)\n",
            "/Users/maksim.rostov/pdev/freestyling/agents/hf-course/.conda/lib/python3.12/inspect.py:592: PydanticDeprecatedSince20: The `__fields_set__` attribute is deprecated, use `model_fields_set` instead. Deprecated in Pydantic V2.0 to be removed in V3.0. See Pydantic V2 Migration Guide at https://errors.pydantic.dev/2.11/migration/\n",
            "  value = getter(object, key)\n",
            "/Users/maksim.rostov/pdev/freestyling/agents/hf-course/.conda/lib/python3.12/inspect.py:592: PydanticDeprecatedSince211: Accessing the 'model_computed_fields' attribute on the instance is deprecated. Instead, you should access this attribute from the model class. Deprecated in Pydantic V2.11 to be removed in V3.0.\n",
            "  value = getter(object, key)\n",
            "/Users/maksim.rostov/pdev/freestyling/agents/hf-course/.conda/lib/python3.12/inspect.py:592: PydanticDeprecatedSince211: Accessing the 'model_fields' attribute on the instance is deprecated. Instead, you should access this attribute from the model class. Deprecated in Pydantic V2.11 to be removed in V3.0.\n",
            "  value = getter(object, key)\n",
            "/Users/maksim.rostov/pdev/freestyling/agents/hf-course/.conda/lib/python3.12/site-packages/mlflow/llama_index/tracer.py:290: PydanticDeprecatedSince20: The `json` method is deprecated; use `model_dump_json` instead. Deprecated in Pydantic V2.0 to be removed in V3.0. See Pydantic V2 Migration Guide at https://errors.pydantic.dev/2.11/migration/\n",
            "  if params_str := metadata.json(exclude_unset=True):\n"
          ]
        },
        {
          "name": "stdout",
          "output_type": "stream",
          "text": [
            "Running step init_run\n",
            "Step init_run produced event AgentInput\n",
            "Running step setup_agent\n",
            "Step setup_agent produced event AgentSetup\n",
            "Running step run_agent_step\n",
            "Step run_agent_step produced event AgentOutput\n",
            "Running step parse_agent_output\n",
            "Step parse_agent_output produced no event\n",
            "Running step call_tool\n",
            "Step call_tool produced event ToolCallResult\n",
            "Running step aggregate_tool_results\n",
            "Step aggregate_tool_results produced event AgentInput\n",
            "Running step setup_agent\n",
            "Step setup_agent produced event AgentSetup\n",
            "Running step run_agent_step\n"
          ]
        },
        {
          "name": "stderr",
          "output_type": "stream",
          "text": [
            "/Users/maksim.rostov/pdev/freestyling/agents/hf-course/.conda/lib/python3.12/site-packages/mlflow/llama_index/tracer.py:290: PydanticDeprecatedSince20: The `json` method is deprecated; use `model_dump_json` instead. Deprecated in Pydantic V2.0 to be removed in V3.0. See Pydantic V2 Migration Guide at https://errors.pydantic.dev/2.11/migration/\n",
            "  if params_str := metadata.json(exclude_unset=True):\n"
          ]
        },
        {
          "name": "stdout",
          "output_type": "stream",
          "text": [
            "Step run_agent_step produced event AgentOutput\n",
            "Running step parse_agent_output\n",
            "Step parse_agent_output produced event StopEvent\n",
            "The history of Prussia begins with the Hohenzollerns being made rulers of the Margraviate of Brandenburg in 1518. In 1529, they secured the reversion of the Duchy of Pomerania after a series of conflicts and subsequently acquired its eastern part following the Peace of Westphalia. In 1618, the electors of Brandenburg also inherited the Duchy of Prussia since then.\n",
            "\n",
            "Prussia became an independent duchy under the Hohenzollern family in the early modern period. Its king, Frederick I, was crowned as King of Prussia in 1701. The country experienced ethnic and political divisions during its history.\n",
            "\n",
            "These are just some highlights from my search about the rich history of Prussia that spanned several centuries and involved various rulers and territorial changes.\n",
            "The history of Prussia begins with the Hohenzollerns being made rulers of the Margraviate of\n",
            "Brandenburg in 1518. In 1529, they secured the reversion of the Duchy of Pomerania after a series of\n",
            "conflicts and subsequently acquired its eastern part following the Peace of Westphalia. In 1618, the\n",
            "electors of Brandenburg also inherited the Duchy of Prussia since then.  Prussia became an\n",
            "independent duchy under the Hohenzollern family in the early modern period. Its king, Frederick I,\n",
            "was crowned as King of Prussia in 1701. The country experienced ethnic and political divisions\n",
            "during its history.  These are just some highlights from my search about the rich history of Prussia\n",
            "that spanned several centuries and involved various rulers and territorial changes.\n"
          ]
        },
        {
          "data": {
            "text/html": [
              "\n",
              "<div>\n",
              "  <style scoped>\n",
              "  button {\n",
              "    border: none;\n",
              "    border-radius: 4px;\n",
              "    background-color: rgb(34, 114, 180);\n",
              "    font-family: -apple-system, \"system-ui\", \"Segoe UI\", Roboto, \"Helvetica Neue\", Arial;\n",
              "    font-size: 13px;\n",
              "    color: white;\n",
              "    margin-top: 8px;\n",
              "    margin-bottom: 8px;\n",
              "    padding: 8px 16px;\n",
              "    cursor: pointer;\n",
              "  }\n",
              "  button:hover {\n",
              "    background-color: rgb(66, 153, 224);\n",
              "  }\n",
              "  </style>\n",
              "  <button\n",
              "    onclick=\"\n",
              "        const display = this.nextElementSibling.style.display;\n",
              "        const isCollapsed = display === 'none';\n",
              "        this.nextElementSibling.style.display = isCollapsed ? null : 'none';\n",
              "\n",
              "        const verb = isCollapsed ? 'Collapse' : 'Expand';\n",
              "        this.innerText = `${verb} MLflow Trace`;\n",
              "    \"\n",
              "  >Collapse MLflow Trace</button>\n",
              "  <iframe\n",
              "    id=\"trace-renderer\"\n",
              "    style=\"width: 100%; height: 500px; border: none; resize: vertical;\"\n",
              "    src=\"http://localhost:5000/static-files/lib/notebook-trace-renderer/index.html?trace_id=72d4c593c8ba4eefb6ae4d808e602bdc&amp;experiment_id=132555481854837603&amp;version=3.1.1\"\n",
              "  />\n",
              "</div>\n"
            ],
            "text/plain": [
              "Trace(trace_id=72d4c593c8ba4eefb6ae4d808e602bdc)"
            ]
          },
          "metadata": {},
          "output_type": "display_data"
        }
      ],
      "source": [
        "from llama_index.core.agent.workflow import ReActAgent, FunctionAgent\n",
        "from llama_index.core.tools import FunctionTool\n",
        "from llama_index.core.workflow import Context\n",
        "\n",
        "import mlflow\n",
        "\n",
        "mlflow.set_experiment(experiment_name=\"Test\")\n",
        "mlflow.set_tracking_uri('http://localhost:5000')\n",
        "mlflow.llama_index.autolog()\n",
        "\n",
        "\n",
        "def get_relevant_webpages(query: str) -> list:\n",
        "    \"\"\"\n",
        "    Gets the relevant webpages urls for a query.\n",
        "\n",
        "    Args:\n",
        "        query (str): what to search online on www.\n",
        "\n",
        "    Returns:\n",
        "        list: list of url links (websites) related to the query \n",
        "    \"\"\"\n",
        "    search_ggg = DDGS()\n",
        "    results = search_ggg.text(query)\n",
        "    return results\n",
        "\n",
        "web_search_tool = FunctionTool.from_defaults(\n",
        "    fn=get_relevant_webpages,\n",
        "    name=\"get_relevant_webpages\",\n",
        "    description=\"Useful for getting a list of relevant webpages (url links) for a particular query. \" \\\n",
        "    \"Together with the web links the list also include a short information about the answer for the query.\"\n",
        ")\n",
        "\n",
        "search_agent = ReActAgent(\n",
        "    name = \"Web Searcher\", \n",
        "    description = \"Search the web give links to the relevant pages it found\",\n",
        "    system_prompt = \"\",\n",
        "    tools=[web_search_tool],\n",
        "    verbose=True,\n",
        "    llm=chat_model,\n",
        ")\n",
        "\n",
        "ctx = Context(search_agent)\n",
        "answer = await search_agent.run(\"History of Prussia, search online with the web search tool\", ctx=ctx)\n",
        "print(answer)\n",
        "pprint(answer.response.blocks[0].text)"
      ]
    },
    {
      "cell_type": "code",
      "execution_count": null,
      "metadata": {},
      "outputs": [],
      "source": []
    }
  ],
  "metadata": {
    "colab": {
      "provenance": []
    },
    "kernelspec": {
      "display_name": "Python 3",
      "language": "python",
      "name": "python3"
    },
    "language_info": {
      "codemirror_mode": {
        "name": "ipython",
        "version": 3
      },
      "file_extension": ".py",
      "mimetype": "text/x-python",
      "name": "python",
      "nbconvert_exporter": "python",
      "pygments_lexer": "ipython3",
      "version": "3.12.10"
    }
  },
  "nbformat": 4,
  "nbformat_minor": 0
}
